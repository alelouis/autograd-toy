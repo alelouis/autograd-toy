{
 "cells": [
  {
   "cell_type": "code",
   "execution_count": 1,
   "id": "22de84c7-e85c-4e78-8178-431b7af8526f",
   "metadata": {},
   "outputs": [],
   "source": [
    "import math"
   ]
  },
  {
   "cell_type": "code",
   "execution_count": 2,
   "id": "2ba676ad-7fdd-453b-9f57-3cd82927782a",
   "metadata": {},
   "outputs": [],
   "source": [
    "def add(*variables):\n",
    "    out = Variable(data = math.fsum((var.data for var in variables)))\n",
    "    def back():\n",
    "        for var in variables:\n",
    "            var.grad += 1.0 * out.grad\n",
    "    out.backward = back\n",
    "    return out\n",
    "\n",
    "def mul(*variables):\n",
    "    out = Variable(data = math.prod((var.data for var in variables)))\n",
    "    def back():\n",
    "        for var in variables:\n",
    "            var.grad += math.prod((var.data for var in variables))/var.data * out.grad\n",
    "    out.backward = back\n",
    "    return out\n",
    "\n",
    "def tanh(var):\n",
    "    out = Variable(data = math.tanh(var.data))\n",
    "    def back():\n",
    "        var.grad += 1 - math.tanh(var.data)**2 * out.grad\n",
    "    out.backward = back\n",
    "    return out"
   ]
  },
  {
   "cell_type": "code",
   "execution_count": 3,
   "id": "1baad864-c633-422a-933d-ae336af40395",
   "metadata": {},
   "outputs": [],
   "source": [
    "class Variable():\n",
    "    def __init__(self, data=None, label=None):\n",
    "        self.data = data\n",
    "        self.label = label\n",
    "        self.grad = 0.0\n",
    "        self.backward = lambda _: None\n",
    "\n",
    "    def __repr__(self):\n",
    "        return f'Variable({self.label}, data = {self.data}, grad = {self.grad})'"
   ]
  },
  {
   "cell_type": "code",
   "execution_count": 4,
   "id": "d01e2ba5-b144-43ae-b34d-afc712a55dfd",
   "metadata": {},
   "outputs": [],
   "source": [
    "a = Variable(1.0, label = 'a')\n",
    "b = Variable(2.0, label = 'b')\n",
    "c = Variable(4.0, label = 'c')\n",
    "d = mul(a, b, c); d.label = 'd'\n",
    "e = tanh(d); e.label = 'e'\n",
    "f = add(d, e); f.label = 'f'"
   ]
  },
  {
   "cell_type": "code",
   "execution_count": 5,
   "id": "b87bd7db-5a51-48a6-980d-0ecfc4424c1e",
   "metadata": {},
   "outputs": [],
   "source": [
    "f.grad = 1.0"
   ]
  },
  {
   "cell_type": "code",
   "execution_count": 6,
   "id": "f370d809-99ca-4bed-b2c8-d770db333838",
   "metadata": {},
   "outputs": [],
   "source": [
    "f._backward()\n",
    "e._backward()\n",
    "d._backward()"
   ]
  },
  {
   "cell_type": "code",
   "execution_count": 7,
   "id": "eadf942e-f636-4478-872e-283ced289929",
   "metadata": {},
   "outputs": [
    {
     "data": {
      "text/plain": [
       "(Variable(a, data = 1.0, grad = 8.000003601124781),\n",
       " Variable(b, data = 2.0, grad = 4.000001800562391),\n",
       " Variable(c, data = 4.0, grad = 2.0000009002811954),\n",
       " Variable(d, data = 8.0, grad = 1.0000004501405977),\n",
       " Variable(e, data = 0.9999997749296758, grad = 1.0),\n",
       " Variable(f, data = 8.999999774929677, grad = 1.0))"
      ]
     },
     "execution_count": 7,
     "metadata": {},
     "output_type": "execute_result"
    }
   ],
   "source": [
    "(a, b, c, d, e, f)"
   ]
  },
  {
   "cell_type": "code",
   "execution_count": 17,
   "id": "60ba2d4f-22a0-48fb-ad32-b018b265ad75",
   "metadata": {},
   "outputs": [],
   "source": [
    "h = 0.0001"
   ]
  },
  {
   "cell_type": "code",
   "execution_count": 18,
   "id": "47f7cd80-13ab-4f4a-b392-bcf31eb3b3cf",
   "metadata": {},
   "outputs": [],
   "source": [
    "a = 1\n",
    "b = 2\n",
    "c = 4\n",
    "d = a * b * c\n",
    "e = math.tanh(d)\n",
    "f = d + e\n",
    "L1 = f"
   ]
  },
  {
   "cell_type": "code",
   "execution_count": 27,
   "id": "bad3718e-ab7e-4be8-afaa-e74e4bdae28a",
   "metadata": {},
   "outputs": [],
   "source": [
    "a = 1\n",
    "\n",
    "b = 2\n",
    "\n",
    "c = 4\n",
    "\n",
    "d = a * b * c\n",
    "\n",
    "e = math.tanh(d)\n",
    "e += h\n",
    "f = d + e\n",
    "L2 = f"
   ]
  },
  {
   "cell_type": "code",
   "execution_count": 28,
   "id": "70d74761-d322-4cb6-949c-f71d102ae189",
   "metadata": {},
   "outputs": [
    {
     "name": "stdout",
     "output_type": "stream",
     "text": [
      "0.9999999999976694\n"
     ]
    }
   ],
   "source": [
    "print((L2-L1)/h)"
   ]
  },
  {
   "cell_type": "code",
   "execution_count": null,
   "id": "b3a211df-2294-4c08-9373-07b2ffdedf35",
   "metadata": {},
   "outputs": [],
   "source": []
  }
 ],
 "metadata": {
  "kernelspec": {
   "display_name": "Python 3 (ipykernel)",
   "language": "python",
   "name": "python3"
  },
  "language_info": {
   "codemirror_mode": {
    "name": "ipython",
    "version": 3
   },
   "file_extension": ".py",
   "mimetype": "text/x-python",
   "name": "python",
   "nbconvert_exporter": "python",
   "pygments_lexer": "ipython3",
   "version": "3.9.12"
  }
 },
 "nbformat": 4,
 "nbformat_minor": 5
}
